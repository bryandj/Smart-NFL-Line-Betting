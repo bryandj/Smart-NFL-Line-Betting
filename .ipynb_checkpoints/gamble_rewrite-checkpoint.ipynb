{
 "cells": [
  {
   "cell_type": "code",
   "execution_count": 1,
   "metadata": {},
   "outputs": [],
   "source": [
    "#!/usr/bin/env python\n",
    "import os\n",
    "import tempfile\n",
    "import zipfile\n",
    "import argparse\n",
    "import re\n",
    "from urllib import request\n",
    "from datetime import datetime\n",
    "from datetime import timedelta\n",
    "from pprint import pprint\n",
    "\n",
    "import dateutil\n",
    "from dateutil.relativedelta import relativedelta\n",
    "from dateutil.relativedelta import TH\n",
    "\n",
    "import pandas as pd\n",
    "import numpy as np"
   ]
  },
  {
   "cell_type": "code",
   "execution_count": 2,
   "metadata": {},
   "outputs": [],
   "source": [
    "# Five Thirty Eight NFL forecasts\n",
    "# https://projects.fivethirtyeight.com/2020-nfl-predictions/games/\n",
    "ELO_URL = ('https://projects.fivethirtyeight.com/'\n",
    "           'data-webpage-data/datasets/nfl-elo.zip')\n",
    "ELO_FILE = 'nfl_elo_latest.csv'"
   ]
  },
  {
   "cell_type": "code",
   "execution_count": 3,
   "metadata": {},
   "outputs": [
    {
     "data": {
      "text/plain": [
       "_StoreAction(option_strings=[], dest='lines', nargs=None, const=None, default=None, type=None, choices=None, help=None, metavar=None)"
      ]
     },
     "execution_count": 3,
     "metadata": {},
     "output_type": "execute_result"
    }
   ],
   "source": [
    "parser = argparse.ArgumentParser()\n",
    "parser.add_argument('money', type=float)\n",
    "parser.add_argument('lines')  # .csv file containing lines"
   ]
  },
  {
   "cell_type": "code",
   "execution_count": 4,
   "metadata": {},
   "outputs": [
    {
     "data": {
      "text/plain": [
       "_StoreTrueAction(option_strings=['--tyAI'], dest='tyAI', nargs=0, const=True, default=False, type=None, choices=None, help=None, metavar=None)"
      ]
     },
     "execution_count": 4,
     "metadata": {},
     "output_type": "execute_result"
    }
   ],
   "source": [
    "today = datetime.now()\n",
    "today = datetime(today.year, today.month, today.day)\n",
    "parser.add_argument('--week-start', '-w', default=today)\n",
    "\n",
    "parser.add_argument('--min-bets', '-b', default=4, type=int)\n",
    "parser.add_argument('--top-k', '-k', action='store_true',\n",
    "                    help='Top k good bets instead of all good bets '\n",
    "                         'normalized')\n",
    "\n",
    "parser.add_argument('--lines-only', action='store_true',\n",
    "                    help='Use lines only to make bets')\n",
    "parser.add_argument('--tyAI', action='store_true')"
   ]
  },
  {
   "cell_type": "code",
   "execution_count": 5,
   "metadata": {},
   "outputs": [
    {
     "name": "stderr",
     "output_type": "stream",
     "text": [
      "usage: ipykernel_launcher.py [-h] [--week-start WEEK_START]\n",
      "                             [--min-bets MIN_BETS] [--top-k] [--lines-only]\n",
      "                             [--tyAI]\n",
      "                             money lines\n",
      "ipykernel_launcher.py: error: argument money: invalid float value: '/Users/bryanjamieson/Library/Jupyter/runtime/kernel-2468804d-8663-493b-8ed6-0e934d393cb9.json'\n"
     ]
    },
    {
     "ename": "SystemExit",
     "evalue": "2",
     "output_type": "error",
     "traceback": [
      "An exception has occurred, use %tb to see the full traceback.\n",
      "\u001b[0;31mSystemExit\u001b[0m\u001b[0;31m:\u001b[0m 2\n"
     ]
    },
    {
     "name": "stderr",
     "output_type": "stream",
     "text": [
      "/Users/bryanjamieson/opt/anaconda3/envs/learn-env/lib/python3.6/site-packages/IPython/core/interactiveshell.py:2886: UserWarning: To exit: use 'exit', 'quit', or Ctrl-D.\n",
      "  warn(\"To exit: use 'exit', 'quit', or Ctrl-D.\", stacklevel=1)\n"
     ]
    }
   ],
   "source": [
    "args = parser.parse_args()\n",
    "#%tb\n",
    "\n",
    "#money = args.money\n",
    "#min_bets = args.min_bets\n",
    "#start_date = args.week_start\n",
    "\n",
    "#if isinstance(start_date, str):\n",
    "#    start_date = dateutil.parser.parse(start_date)"
   ]
  },
  {
   "cell_type": "code",
   "execution_count": null,
   "metadata": {},
   "outputs": [],
   "source": [
    "money = args.money\n",
    "min_bets = args.min_bets\n",
    "start_date = args.week_start"
   ]
  },
  {
   "cell_type": "code",
   "execution_count": null,
   "metadata": {},
   "outputs": [],
   "source": [
    "if isinstance(start_date, str):\n",
    "    start_date = dateutil.parser.parse(start_date)"
   ]
  },
  {
   "cell_type": "code",
   "execution_count": null,
   "metadata": {},
   "outputs": [],
   "source": [
    "# Find the closest thursday\n",
    "next_thurs = start_date + relativedelta(weekday=TH(+1))\n",
    "prev_thurs = start_date + relativedelta(weekday=TH(-1))\n",
    "start_date = (next_thurs\n",
    "              if (next_thurs - start_date).days <\n",
    "                 (start_date - prev_thurs).days\n",
    "              else prev_thurs)\n",
    "end_date = start_date + timedelta(days=6)\n",
    "print('Gambling for week starting on %s and ending %s.' %\n",
    "      (str(start_date.date()), str(end_date.date())))"
   ]
  },
  {
   "cell_type": "code",
   "execution_count": null,
   "metadata": {},
   "outputs": [],
   "source": [
    "# read in lines\n",
    "lines_df = pd.read_csv(args.lines)\n",
    "lines_df.rename(\n",
    "    columns=lambda c: re.sub(' +', ' ', c.replace('\\n', ' ').strip()),\n",
    "    inplace=True\n",
    ")\n",
    "lines_df.dropna(subset=['Money Line', 'Money Line.1',\n",
    "                        'Away Team', 'Home Team'],\n",
    "                how='any', axis=0, inplace=True)\n",
    "lines_df.reset_index(inplace=True, drop=True)\n",
    "teams = list(lines_df.loc[:, 'Away Team'])\n",
    "teams.extend(list(lines_df.loc[:, 'Home Team']))\n",
    "lines = list(lines_df.loc[:, 'Money Line'].astype(int))\n",
    "lines.extend(list(lines_df.loc[:, 'Money Line.1'].astype(int)))\n",
    "\n",
    "lines = dict(zip(teams, lines))\n",
    "\n",
    "with tempfile.TemporaryDirectory() as dirname:\n",
    "    elo_zip = os.path.join(dirname, 'nfl-elo.zip')\n",
    "    print('Downloading %s to %s.' % (ELO_URL, elo_zip))\n",
    "    request.urlretrieve(ELO_URL, elo_zip)\n",
    "\n",
    "    elo_dir = os.path.join(dirname, 'nfl-elo')\n",
    "    print('Extracting to %s.' % elo_dir)\n",
    "    with zipfile.ZipFile(elo_zip, 'r') as zip_file:\n",
    "        zip_file.extractall(elo_dir)\n",
    "\n",
    "    # Grab the contents of ELO_FILE\n",
    "    zip_contents = os.listdir(elo_dir)\n",
    "    elo_file = ELO_FILE\n",
    "    if (len(zip_contents) == 1 and\n",
    "            os.path.isdir(os.path.join(elo_dir, zip_contents[0]))):\n",
    "        elo_file = os.path.join(zip_contents[0], elo_file)\n",
    "    elo_file = os.path.join(elo_dir, elo_file)\n",
    "\n",
    "    print('Reading content of %s.' % elo_file)\n",
    "    data = pd.read_csv(elo_file)"
   ]
  },
  {
   "cell_type": "code",
   "execution_count": null,
   "metadata": {},
   "outputs": [],
   "source": [
    "# Quarterback-adjusted elo probability of winning\n",
    "ELO1 = 'qbelo_prob1'\n",
    "ELO2 = 'qbelo_prob2'\n",
    "TEAM1 = 'team1'\n",
    "TEAM2 = 'team2'\n",
    "DATE = 'date'"
   ]
  },
  {
   "cell_type": "code",
   "execution_count": null,
   "metadata": {},
   "outputs": [],
   "source": [
    "# Filter data for date range\n",
    "data.loc[:, DATE] = pd.to_datetime(data.loc[:, DATE])\n",
    "data = data.loc[(data.loc[:, DATE] >= start_date) &\n",
    "                (data.loc[:, DATE] <= end_date)]\n",
    "data.reset_index(inplace=True, drop=True)"
   ]
  },
  {
   "cell_type": "code",
   "execution_count": null,
   "metadata": {},
   "outputs": [],
   "source": [
    "# Rename teams\n",
    "RENAME = {\n",
    "    'OAK': 'LV'\n",
    "}\n",
    "data.loc[:, TEAM1].replace(RENAME, inplace=True)\n",
    "data.loc[:, TEAM2].replace(RENAME, inplace=True)\n",
    "\n",
    "print('Using Kelly criterion to place bets with ${:.2f}.'.format(money))"
   ]
  },
  {
   "cell_type": "code",
   "execution_count": null,
   "metadata": {},
   "outputs": [],
   "source": [
    "# Grab winning teams and probabilities\n",
    "winner_idx = data.loc[:, ELO1] > data.loc[:, ELO2]\n",
    "winners = np.where(winner_idx,\n",
    "                   data.loc[:, TEAM1], data.loc[:, TEAM2])\n",
    "losers = np.where(winner_idx,\n",
    "                  data.loc[:, TEAM2], data.loc[:, TEAM1])\n",
    "probs = np.where(winner_idx,\n",
    "                 data.loc[:, ELO1], data.loc[:, ELO2])"
   ]
  },
  {
   "cell_type": "code",
   "execution_count": null,
   "metadata": {},
   "outputs": [],
   "source": [
    "def kelly(p, b):\n",
    "    \"\"\"\n",
    "    p: probability of win\n",
    "    b: net fractional odds received on wager\n",
    "    https://en.wikipedia.org/wiki/Kelly_criterion\n",
    "    \"\"\"\n",
    "    return (p * (b + 1) - 1) / b"
   ]
  },
  {
   "cell_type": "code",
   "execution_count": null,
   "metadata": {},
   "outputs": [],
   "source": [
    "def line_odds(line):\n",
    "    if line > 0:\n",
    "        return line / 100\n",
    "    else:\n",
    "        return -100 / line"
   ]
  },
  {
   "cell_type": "code",
   "execution_count": null,
   "metadata": {},
   "outputs": [],
   "source": [
    "bets = []\n",
    "if args.tyAI:\n",
    "    print('Explicitly going out of the way to ignore the statistical model '\n",
    "          'and say every game is 50/50 odds.')\n",
    "for winner, loser, prob in zip(winners, losers, probs):\n",
    "    if winner not in lines or np.isnan(lines[winner]):\n",
    "        continue\n",
    "\n",
    "    if args.tyAI:\n",
    "        prob = 0.5\n",
    "    elif args.lines_only:\n",
    "        prob = lines[winner] / abs(lines[winner] - lines[loser])\n",
    "\n",
    "    payout_w = line_odds(lines[winner])\n",
    "    wager_w = kelly(prob, payout_w)\n",
    "\n",
    "    payout_l = line_odds(lines[loser])\n",
    "    wager_l = kelly(1 - prob, payout_l)\n",
    "\n",
    "    bets.append([winner, wager_w, payout_w, prob])\n",
    "    bets.append([loser, wager_l, payout_l, 1 - prob])\n",
    "\n",
    "bets = sorted(bets, key=lambda r: r[1], reverse=True)\n",
    "print('Team, Kelly wager, Net payout, Win prob')\n",
    "pprint(bets)"
   ]
  },
  {
   "cell_type": "code",
   "execution_count": null,
   "metadata": {},
   "outputs": [],
   "source": [
    "MIN_KELLY = 0\n",
    "BAD_BET_WAGER = 0.69  # cents\n",
    "\n",
    "good_bets = list(filter(lambda r: r[1] > MIN_KELLY, bets))\n",
    "\n",
    "if args.top_k:\n",
    "    print('Using top k bets that sum to 1')\n",
    "    total = 0\n",
    "    n_bets = 1\n",
    "    for i, bet in enumerate(good_bets):\n",
    "        total += bet[1]\n",
    "        if total > 1:\n",
    "            print('Full money exceeded after %d bets' % (i + 1))\n",
    "            break\n",
    "        n_bets += 1\n",
    "    good_bets = good_bets[:n_bets]\n",
    "\n",
    "if len(good_bets) < min_bets:\n",
    "    print('Minimum bets not exceeded. Adding more bets...')\n",
    "    good_bets = bets[:min_bets]\n",
    "    bad_bet_frac = BAD_BET_WAGER / money\n",
    "    for bet in good_bets:\n",
    "        if bet[1] < 0:\n",
    "            bet[1] = bad_bet_frac\n",
    "\n",
    "bet_total = sum(r[1] for r in good_bets)\n",
    "if bet_total > 1:\n",
    "    bet_scalar = bet_total\n",
    "    bet_total = 1\n",
    "    print('Total bets over 100%%, reducing bets by %.2f%%' %\n",
    "          ((bet_scalar - 1) * 100))\n",
    "else:\n",
    "    bet_scalar = 1\n",
    "\n",
    "print('Betting on %d teams with %.2f%% of $%.2f ($%.2f).' %\n",
    "      (len(good_bets), bet_total * 100, money, money * bet_total))\n",
    "for team, wager, _, _ in good_bets:\n",
    "    print('%3s $%.2f' % (team, wager / bet_scalar * money))\n",
    "# EOF"
   ]
  },
  {
   "cell_type": "code",
   "execution_count": null,
   "metadata": {},
   "outputs": [],
   "source": []
  },
  {
   "cell_type": "code",
   "execution_count": null,
   "metadata": {},
   "outputs": [],
   "source": []
  },
  {
   "cell_type": "code",
   "execution_count": null,
   "metadata": {},
   "outputs": [],
   "source": []
  },
  {
   "cell_type": "code",
   "execution_count": null,
   "metadata": {},
   "outputs": [],
   "source": []
  },
  {
   "cell_type": "code",
   "execution_count": null,
   "metadata": {},
   "outputs": [],
   "source": []
  },
  {
   "cell_type": "code",
   "execution_count": null,
   "metadata": {},
   "outputs": [],
   "source": []
  },
  {
   "cell_type": "code",
   "execution_count": null,
   "metadata": {},
   "outputs": [],
   "source": []
  },
  {
   "cell_type": "code",
   "execution_count": null,
   "metadata": {},
   "outputs": [],
   "source": []
  },
  {
   "cell_type": "code",
   "execution_count": null,
   "metadata": {},
   "outputs": [],
   "source": []
  },
  {
   "cell_type": "code",
   "execution_count": null,
   "metadata": {},
   "outputs": [],
   "source": []
  },
  {
   "cell_type": "code",
   "execution_count": null,
   "metadata": {},
   "outputs": [],
   "source": []
  },
  {
   "cell_type": "code",
   "execution_count": null,
   "metadata": {},
   "outputs": [],
   "source": []
  },
  {
   "cell_type": "code",
   "execution_count": null,
   "metadata": {},
   "outputs": [],
   "source": []
  },
  {
   "cell_type": "code",
   "execution_count": null,
   "metadata": {},
   "outputs": [],
   "source": []
  },
  {
   "cell_type": "code",
   "execution_count": null,
   "metadata": {},
   "outputs": [],
   "source": []
  },
  {
   "cell_type": "code",
   "execution_count": null,
   "metadata": {},
   "outputs": [],
   "source": []
  },
  {
   "cell_type": "code",
   "execution_count": null,
   "metadata": {},
   "outputs": [],
   "source": []
  },
  {
   "cell_type": "code",
   "execution_count": null,
   "metadata": {},
   "outputs": [],
   "source": []
  },
  {
   "cell_type": "code",
   "execution_count": null,
   "metadata": {},
   "outputs": [],
   "source": []
  },
  {
   "cell_type": "code",
   "execution_count": null,
   "metadata": {},
   "outputs": [],
   "source": []
  },
  {
   "cell_type": "code",
   "execution_count": null,
   "metadata": {},
   "outputs": [],
   "source": []
  },
  {
   "cell_type": "code",
   "execution_count": null,
   "metadata": {},
   "outputs": [],
   "source": []
  },
  {
   "cell_type": "code",
   "execution_count": null,
   "metadata": {},
   "outputs": [],
   "source": []
  }
 ],
 "metadata": {
  "kernelspec": {
   "display_name": "Python 3",
   "language": "python",
   "name": "python3"
  },
  "language_info": {
   "codemirror_mode": {
    "name": "ipython",
    "version": 3
   },
   "file_extension": ".py",
   "mimetype": "text/x-python",
   "name": "python",
   "nbconvert_exporter": "python",
   "pygments_lexer": "ipython3",
   "version": "3.6.9"
  }
 },
 "nbformat": 4,
 "nbformat_minor": 4
}
